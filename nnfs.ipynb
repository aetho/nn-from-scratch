{
 "cells": [
  {
   "cell_type": "code",
   "execution_count": 20,
   "metadata": {},
   "outputs": [],
   "source": [
    "%matplotlib inline\n",
    "import math\n",
    "import matplotlib\n",
    "import matplotlib.pyplot as plt\n",
    "import numpy as np\n",
    "from nnfs.datasets import spiral_data"
   ]
  },
  {
   "cell_type": "markdown",
   "metadata": {},
   "source": [
    "# Intro\n",
    "Neural networks comprise of layers of neurons and connections between the neurons of each layer. Tuning the weights and biases of these connections allow the network to \"learn\" and predict."
   ]
  },
  {
   "cell_type": "markdown",
   "metadata": {},
   "source": [
    "# Neuron code\n",
    "Suppose we are looking at a single neuron taking in 3 inputs from the previous layer. The following is a simplified look at what a neuron does. It takes a weighted sum of its inputs and adds the bias associated with the neuron. The result of this calculation is output of the neuron."
   ]
  },
  {
   "cell_type": "code",
   "execution_count": 21,
   "metadata": {},
   "outputs": [
    {
     "name": "stdout",
     "output_type": "stream",
     "text": [
      "2.3\n"
     ]
    }
   ],
   "source": [
    "inputs = [1, 2, 3] # Output of previous layer's neurons (could be from an actual input layer or a hidden layer)\n",
    "weights = [0.2, 0.8, -0.5] # Strength of connection between the previous layer's neurons\n",
    "bias = 2 # Bias associated with this particular neuron\n",
    "\n",
    "output = inputs[0]*weights[0] + inputs[1]*weights[1] + inputs[2]*weights[2] + bias\n",
    "print(output)"
   ]
  },
  {
   "cell_type": "markdown",
   "metadata": {},
   "source": [
    "# Layer Code\n",
    "Now suppose we are are looking at a single layer consisting of 3 neurons taking inputs from a previous layer of 4 neurons. This time there would be 3 sets of weights as well as 3 biases."
   ]
  },
  {
   "cell_type": "code",
   "execution_count": 22,
   "metadata": {},
   "outputs": [
    {
     "name": "stdout",
     "output_type": "stream",
     "text": [
      "[4.8, 1.21, 2.385]\n"
     ]
    }
   ],
   "source": [
    "inputs = [1, 2, 3, 2.5]\n",
    "weights1 = [0.2, 0.8, -0.5, 1.0]\n",
    "weights2 = [0.5, -0.91, 0.26, -0.5]\n",
    "weights3 = [-0.26, -0.27, 0.17, 0.87]\n",
    "\n",
    "bias1 = 2\n",
    "bias2 = 3\n",
    "bias3 = 0.5\n",
    "\n",
    "output = [inputs[0]*weights1[0] + inputs[1]*weights1[1] + inputs[2]*weights1[2] + inputs[3]*weights1[3] + bias1,\n",
    "\t\t  inputs[0]*weights2[0] + inputs[1]*weights2[1] + inputs[2]*weights2[2] + inputs[3]*weights2[3] + bias2,\n",
    "\t\t  inputs[0]*weights3[0] + inputs[1]*weights3[1] + inputs[2]*weights3[2] + inputs[3]*weights3[3] + bias3]\n",
    "print(output)"
   ]
  },
  {
   "cell_type": "markdown",
   "metadata": {},
   "source": [
    "# Numpy and Dot Product\n",
    "To make things faster and more concise, we can use the numpy's dot product function."
   ]
  },
  {
   "cell_type": "code",
   "execution_count": 23,
   "metadata": {},
   "outputs": [
    {
     "name": "stdout",
     "output_type": "stream",
     "text": [
      "[4.8   1.21  2.385]\n"
     ]
    }
   ],
   "source": [
    "inputs = [1, 2, 3, 2.5]\n",
    "weights = [[0.2, 0.8, -0.5, 1.0],\n",
    "\t\t   [0.5, -0.91, 0.26, -0.5],\n",
    "\t\t   [-0.26, -0.27, 0.17, 0.87]]\n",
    "biases = [2, 3, 0.5]\n",
    "\n",
    "output = np.dot(weights, inputs) + biases\n",
    "print(output)"
   ]
  },
  {
   "cell_type": "markdown",
   "metadata": {},
   "source": [
    "# Batching\n",
    "Now consider instead of passing a single input at time, we wish to pass a batch of inputs. Doing this allows us to reduce computation time. The following code details how the output is calculated for a batch of 3 inputs"
   ]
  },
  {
   "cell_type": "code",
   "execution_count": 24,
   "metadata": {},
   "outputs": [
    {
     "name": "stdout",
     "output_type": "stream",
     "text": [
      "[[ 4.8    1.21   2.385]\n",
      " [ 8.9   -1.81   0.2  ]\n",
      " [ 1.41   1.051  0.026]]\n"
     ]
    }
   ],
   "source": [
    "inputs = [[1, 2, 3, 2.5],\n",
    "\t\t  [2.0, 5.0, -1.0, 2.0],\n",
    "\t\t  [-1.5, 2.7, 3.3, -0.8]]\n",
    "weights = [[0.2, 0.8, -0.5, 1.0],\n",
    "\t\t   [0.5, -0.91, 0.26, -0.5],\n",
    "\t\t   [-0.26, -0.27, 0.17, 0.87]]\n",
    "biases = [2, 3, 0.5]\n",
    "output = np.dot(inputs, np.array(weights).T) + biases\n",
    "print(output)"
   ]
  },
  {
   "cell_type": "markdown",
   "metadata": {},
   "source": [
    "# OOP\n",
    "Now consider that we wish to add more layers of neurons. The simplest way would be to type out another set of weights and biases but this can be quite restricting when we want to modify the neural network. Thus, we'll be abstracting neurons and layers into classes"
   ]
  },
  {
   "cell_type": "markdown",
   "metadata": {},
   "source": [
    "## Layer"
   ]
  },
  {
   "cell_type": "code",
   "execution_count": 25,
   "metadata": {},
   "outputs": [],
   "source": [
    "class Layer_Dense:\n",
    "\tdef __init__(self, n_inputs, n_neurons):\n",
    "\t\t# Randomly initialise weights to be a small number \n",
    "\t\tself.weight = 0.10*np.random.randn(n_inputs, n_neurons)\n",
    "\t\tself.biases = np.zeros((1, n_neurons))\n",
    "\tdef forward(self, inputs):\n",
    "\t\tself.output = np.dot(inputs, self.weight) + self.biases"
   ]
  },
  {
   "cell_type": "markdown",
   "metadata": {},
   "source": [
    "**Note**: here we set initial biases to be zeros but this can sometimes cause zeros to propagate through the network, resulting in a \"dead\" network. Hence we should consider initial biases when creating/tuning a network."
   ]
  },
  {
   "cell_type": "markdown",
   "metadata": {},
   "source": [
    "With our dense layer abstracted, we can now make and use multiple layers as follows:"
   ]
  },
  {
   "cell_type": "code",
   "execution_count": 26,
   "metadata": {},
   "outputs": [
    {
     "name": "stdout",
     "output_type": "stream",
     "text": [
      "[[ 0.5594736  -0.12346543 -0.27237936 -0.87588405  0.22051304]\n",
      " [ 0.28065775 -0.15663613 -0.93009513 -0.45087583  0.42214403]\n",
      " [ 0.05614457 -0.20039359  0.09130433 -0.6521065  -0.60439449]]\n",
      "[[ 0.01290147  0.04885608]\n",
      " [ 0.02718514 -0.0435932 ]\n",
      " [ 0.1340947   0.12693194]]\n"
     ]
    }
   ],
   "source": [
    "# Inputs\n",
    "X = [[1, 2, 3, 2.5],\n",
    "\t[2.0, 5.0, -1.0, 2.0],\n",
    "\t[-1.5, 2.7, 3.3, -0.8]]\n",
    "\n",
    "layer1 = Layer_Dense(4, 5)\n",
    "layer2 = Layer_Dense(5,2)\n",
    "\n",
    "layer1.forward(X)\n",
    "layer2.forward(layer1.output)\n",
    "\n",
    "print(layer1.output)\n",
    "print(layer2.output)"
   ]
  },
  {
   "cell_type": "markdown",
   "metadata": {},
   "source": [
    "# Activation Functions\n",
    "Activation functions allow the network to better fit the data. The layer class that we have used so far is considered to be using the idenity activation function, `f(x) = x`. However, to solve more difficult problems we require nonlinear activation functions. Some common/popular nonlinear activation functions include the sigmoid function and the rectified linear unit."
   ]
  },
  {
   "cell_type": "markdown",
   "metadata": {},
   "source": [
    "## Rectified Linear Unit (ReLU)\n",
    "The ReLU activation function returns `f(x) = x` for `x > 0` and `f(x) = 0` for `x<=0` "
   ]
  },
  {
   "cell_type": "code",
   "execution_count": 27,
   "metadata": {},
   "outputs": [],
   "source": [
    "class Activation_ReLU:\n",
    "\tdef forward(self, inputs):\n",
    "\t\tself.output = np.maximum(0, inputs)"
   ]
  },
  {
   "cell_type": "markdown",
   "metadata": {},
   "source": [
    "The activation function can then be used as follows:"
   ]
  },
  {
   "cell_type": "code",
   "execution_count": 28,
   "metadata": {},
   "outputs": [
    {
     "data": {
      "text/plain": [
       "[<matplotlib.lines.Line2D at 0x7fcafd261940>]"
      ]
     },
     "execution_count": 28,
     "metadata": {},
     "output_type": "execute_result"
    },
    {
     "data": {
      "image/png": "[encoded data removed]",
      "text/plain": [
       "<Figure size 432x288 with 1 Axes>"
      ]
     },
     "metadata": {
      "needs_background": "light"
     },
     "output_type": "display_data"
    }
   ],
   "source": [
    "# 100 feature sets of 3 classes (each feature set containing 2 features (x,y))\n",
    "X,y = spiral_data(100, 3)\n",
    "plt.plot(X[y==0,0], X[y==0,1], 'o')\n",
    "plt.plot(X[y==1,0], X[y==1,1], 'o')\n",
    "plt.plot(X[y==2,0], X[y==2,1], 'o')"
   ]
  },
  {
   "cell_type": "code",
   "execution_count": 29,
   "metadata": {},
   "outputs": [
    {
     "name": "stdout",
     "output_type": "stream",
     "text": [
      "[[0.         0.         0.         0.         0.        ]\n",
      " [0.         0.         0.0023381  0.         0.        ]\n",
      " [0.         0.         0.00531102 0.00044745 0.        ]\n",
      " ...\n",
      " [0.02531792 0.         0.09502482 0.         0.        ]\n",
      " [0.12169406 0.02798662 0.         0.         0.00943619]\n",
      " [0.09482336 0.         0.         0.         0.        ]]\n"
     ]
    }
   ],
   "source": [
    "layer1 = Layer_Dense(2, 5)\n",
    "activation1 = Activation_ReLU()\n",
    "\n",
    "layer1.forward(X)\n",
    "activation1.forward(layer1.output)\n",
    "\n",
    "print(activation1.output)"
   ]
  },
  {
   "cell_type": "markdown",
   "metadata": {},
   "source": [
    "**Note**: here we see that there are no negative values and many values have been set to zero as expected of the ReLU function. However, if we find that the network is \"dying\", it could mean that our initial biases may need to be tweaked."
   ]
  },
  {
   "cell_type": "markdown",
   "metadata": {},
   "source": [
    "## Softmax\n",
    "The softmax function exponentiates inputs and normalises and returns this calculation as output."
   ]
  },
  {
   "cell_type": "code",
   "execution_count": 30,
   "metadata": {},
   "outputs": [],
   "source": [
    "class Activation_Softmax:\n",
    "\tdef forward(self, inputs):\n",
    "\t\t# max input value is subtracted to avoid overflow \n",
    "\t\texp_val = np.exp(inputs - np.max(inputs, axis=1, keepdims=True))\n",
    "\t\tprobabilities = exp_val / np.sum(exp_val, axis=1, keepdims=True)\n",
    "\t\tself.output = probabilities"
   ]
  },
  {
   "cell_type": "markdown",
   "metadata": {},
   "source": [
    "The softmax layer can then be used as follows:"
   ]
  },
  {
   "cell_type": "code",
   "execution_count": 31,
   "metadata": {},
   "outputs": [
    {
     "name": "stdout",
     "output_type": "stream",
     "text": [
      "[[0.33333333 0.33333333 0.33333333]\n",
      " [0.33336691 0.33332359 0.3333095 ]\n",
      " [0.33340474 0.33330657 0.33328869]\n",
      " [0.33333333 0.33333333 0.33333333]\n",
      " [0.33345963 0.33330371 0.33323666]]\n"
     ]
    }
   ],
   "source": [
    "X,y = spiral_data(100, 3)\n",
    "dense1 = Layer_Dense(2,3)\n",
    "activation1 = Activation_ReLU()\n",
    "\n",
    "dense2 = Layer_Dense(3,3)\n",
    "activation2 = Activation_Softmax()\n",
    "\n",
    "dense1.forward(X)\n",
    "activation1.forward(dense1.output)\n",
    "\n",
    "dense2.forward(activation1.output)\n",
    "activation2.forward(dense2.output)\n",
    "\n",
    "print(activation2.output[:5])"
   ]
  },
  {
   "cell_type": "markdown",
   "metadata": {},
   "source": [
    "This uniform output of approximately `1/3` is expected for a randomly initialised network with three output neurons"
   ]
  },
  {
   "cell_type": "markdown",
   "metadata": {},
   "source": [
    "# Loss Functions\n",
    "Before we are able to train our model, we need a way to tell how wrong the model is. We could try to train purely on the data labels but that would be throwing away a lot of potentially useful information that the optimiser can use."
   ]
  },
  {
   "cell_type": "markdown",
   "metadata": {},
   "source": [
    "## Categorical Cross Entropy"
   ]
  },
  {
   "cell_type": "code",
   "execution_count": 32,
   "metadata": {},
   "outputs": [
    {
     "name": "stdout",
     "output_type": "stream",
     "text": [
      "0.35667494393873245\n"
     ]
    }
   ],
   "source": [
    "# Suppose we have the following output from a softmax layer\n",
    "softmax_output = [0.7, 0.1, 0.2]\n",
    "# Suppose the target class for this sample was\n",
    "target_output = 0\n",
    "# With one-hot encoding, this becomes\n",
    "target_output = [1, 0, 0]\n",
    "# Loss is then given as follows\n",
    "loss = -(math.log(softmax_output[0])*target_output[0] +\n",
    "         math.log(softmax_output[1])*target_output[1] +\n",
    "\t\t math.log(softmax_output[2])*target_output[2]\n",
    "\t\t)\n",
    "# Due to one-hot encoding, the simplifies to\n",
    "loss = -math.log(softmax_output[0])\n",
    "print(loss)"
   ]
  },
  {
   "cell_type": "markdown",
   "metadata": {},
   "source": [
    "Now we can abstract this example to make our loss function"
   ]
  },
  {
   "cell_type": "code",
   "execution_count": 33,
   "metadata": {},
   "outputs": [],
   "source": [
    "class Loss:\n",
    "\tdef calculate(self, output, y):\n",
    "\t\tsample_losses = self.forward(output, y)\n",
    "\t\tdata_loss = np.mean(sample_losses)\n",
    "\t\treturn data_loss\n",
    "\n",
    "class Loss_CategoricalCrossEntropy(Loss):\n",
    "\tdef forward(self, y_pred, y_true):\n",
    "\t\tsamples = len(y_pred)\n",
    "\t\ty_pred_clipped = np.clip(y_pred, 1e-7, 1-1e-7)\n",
    "\n",
    "\t\tif len(y_true.shape) == 1: # Scalar values\n",
    "\t\t\tcorrect_confidences = y_pred_clipped[range(samples), y_true]\n",
    "\t\telif len(y_true.shape) == 2: # One-hot encoded\n",
    "\t\t\tcorrect_confidences = np.sum(y_pred_clipped*y_true, axis=1)\n",
    "\t\t\n",
    "\t\tneg_log_likelihoods = -np.log(correct_confidences)\n",
    "\t\treturn neg_log_likelihoods\n"
   ]
  },
  {
   "cell_type": "markdown",
   "metadata": {},
   "source": [
    "Using loss"
   ]
  },
  {
   "cell_type": "code",
   "execution_count": 34,
   "metadata": {},
   "outputs": [
    {
     "name": "stdout",
     "output_type": "stream",
     "text": [
      "[[0.33333333 0.33333333 0.33333333]\n",
      " [0.33335769 0.33335592 0.33328639]\n",
      " [0.33341569 0.33336488 0.33321943]\n",
      " [0.33345965 0.333385   0.33315535]\n",
      " [0.33349562 0.33339313 0.33311125]]\n",
      "1.0983040562422333\n"
     ]
    }
   ],
   "source": [
    "X,y = spiral_data(100, 3)\n",
    "dense1 = Layer_Dense(2,3)\n",
    "activation1 = Activation_ReLU()\n",
    "\n",
    "dense2 = Layer_Dense(3,3)\n",
    "activation2 = Activation_Softmax()\n",
    "\n",
    "dense1.forward(X)\n",
    "activation1.forward(dense1.output)\n",
    "\n",
    "dense2.forward(activation1.output)\n",
    "activation2.forward(dense2.output)\n",
    "\n",
    "loss_func = Loss_CategoricalCrossEntropy()\n",
    "loss = loss_func.calculate(activation2.output, y)\n",
    "\n",
    "print(activation2.output[:5])\n",
    "print(loss)"
   ]
  }
 ],
 "metadata": {
  "interpreter": {
   "hash": "4fa36bcf1766e76261d7e2de351ed41c907e2998d874acb8e9d577b33be7ab2b"
  },
  "kernelspec": {
   "display_name": "Python 3.8.10 64-bit ('venv': venv)",
   "name": "python3"
  },
  "language_info": {
   "codemirror_mode": {
    "name": "ipython",
    "version": 3
   },
   "file_extension": ".py",
   "mimetype": "text/x-python",
   "name": "python",
   "nbconvert_exporter": "python",
   "pygments_lexer": "ipython3",
   "version": "3.8.10"
  },
  "orig_nbformat": 4
 },
 "nbformat": 4,
 "nbformat_minor": 2
}
